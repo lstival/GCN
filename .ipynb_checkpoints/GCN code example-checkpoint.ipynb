{
 "cells": [
  {
   "cell_type": "code",
   "execution_count": 1,
   "id": "b114b653",
   "metadata": {},
   "outputs": [
    {
     "name": "stdout",
     "output_type": "stream",
     "text": [
      "1.10.0\n"
     ]
    }
   ],
   "source": [
    "import torch\n",
    "print(torch.__version__)"
   ]
  },
  {
   "cell_type": "code",
   "execution_count": 2,
   "id": "b9663aac",
   "metadata": {},
   "outputs": [
    {
     "data": {
      "text/plain": [
       "'\\npip install torch-scatter torch-sparse torch-cluster torch-spline-conv torch-geometric-f https://data.pyg.org/whl/torch-1.10.0+cu113.html\\n\\nhttps://pytorch-geometric.readthedocs.io/en/latest/notes/installation.html\\n'"
      ]
     },
     "execution_count": 2,
     "metadata": {},
     "output_type": "execute_result"
    }
   ],
   "source": [
    "#First install dependences to pytorch geometric\n",
    "\"\"\"\n",
    "pip install torch-scatter torch-sparse torch-cluster torch-spline-conv torch-geometric-f https://data.pyg.org/whl/torch-1.10.0+cu113.html\n",
    "\n",
    "https://pytorch-geometric.readthedocs.io/en/latest/notes/installation.html\n",
    "\"\"\""
   ]
  },
  {
   "cell_type": "code",
   "execution_count": 3,
   "id": "27c04589",
   "metadata": {},
   "outputs": [],
   "source": [
    "# pip install torch-scatter -f https://data.pyg.org/whl/torch-1.10.0.html\n",
    "# pip install torch-sparse -f https://data.pyg.org/whl/torch-1.10.0.html\n",
    "# pip install torch-geometric"
   ]
  },
  {
   "cell_type": "code",
   "execution_count": 4,
   "id": "40c7d133",
   "metadata": {},
   "outputs": [],
   "source": [
    "#Importing the librarys\n",
    "import torch\n",
    "from torch_geometric.data import Data"
   ]
  },
  {
   "cell_type": "markdown",
   "id": "703626c0",
   "metadata": {},
   "source": [
    "https://pytorch-geometric.readthedocs.io/en/latest/notes/introduction.html"
   ]
  },
  {
   "attachments": {
    "graph.svg": {
     "image/svg+xml": [
      "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"
     ]
    }
   },
   "cell_type": "markdown",
   "id": "b978a6a6",
   "metadata": {},
   "source": [
    "![graph.svg](attachment:graph.svg)"
   ]
  },
  {
   "cell_type": "code",
   "execution_count": 5,
   "id": "ee6eb8e2",
   "metadata": {},
   "outputs": [
    {
     "data": {
      "text/plain": [
       "tensor([[0, 1, 1, 2],\n",
       "        [1, 0, 2, 1]])"
      ]
     },
     "execution_count": 5,
     "metadata": {},
     "output_type": "execute_result"
    }
   ],
   "source": [
    "\"\"\"\n",
    "Represents the edges at the graph above\n",
    "where first row represent one way to conecte(like 0 to 1)\n",
    "and second row the 'back' with (1 to 0).\n",
    "\"\"\"\n",
    "edge_index = torch.tensor([[0, 1, 1, 2],\n",
    "                           [1, 0, 2, 1]], dtype=torch.long)\n",
    "\n",
    "edge_index"
   ]
  },
  {
   "cell_type": "code",
   "execution_count": 6,
   "id": "5140693d",
   "metadata": {},
   "outputs": [
    {
     "data": {
      "text/plain": [
       "tensor([[0, 1],\n",
       "        [1, 0],\n",
       "        [1, 2],\n",
       "        [2, 1]])"
      ]
     },
     "execution_count": 6,
     "metadata": {},
     "output_type": "execute_result"
    }
   ],
   "source": [
    "\"\"\"\n",
    "We can write the edge index like a tensor off pairs\n",
    "using edge_index.contiguous()\n",
    "\"\"\"\n",
    "edge_index.t().contiguous()"
   ]
  },
  {
   "cell_type": "code",
   "execution_count": 7,
   "id": "330cfa9a",
   "metadata": {},
   "outputs": [
    {
     "data": {
      "text/plain": [
       "tensor([[-1.],\n",
       "        [ 0.],\n",
       "        [ 1.]])"
      ]
     },
     "execution_count": 7,
     "metadata": {},
     "output_type": "execute_result"
    }
   ],
   "source": [
    "\"\"\"\n",
    "X represetns the value of some metric to each node\n",
    "following the numeric order of node (0,1,2 like in the example)\n",
    "\"\"\"\n",
    "x = torch.tensor([[-1], [0], [1]], dtype=torch.float)\n",
    "x"
   ]
  },
  {
   "cell_type": "code",
   "execution_count": 8,
   "id": "835b80a5",
   "metadata": {},
   "outputs": [
    {
     "data": {
      "text/plain": [
       "Data(x=[3, 1], edge_index=[4, 2])"
      ]
     },
     "execution_count": 8,
     "metadata": {},
     "output_type": "execute_result"
    }
   ],
   "source": [
    "data = Data(x=x, edge_index=edge_index.t().contiguous())\n",
    "data"
   ]
  },
  {
   "cell_type": "code",
   "execution_count": 9,
   "id": "bee5be71",
   "metadata": {},
   "outputs": [
    {
     "name": "stdout",
     "output_type": "stream",
     "text": [
      "Number of nodes at the graph: 3\n",
      "Number of edges at the graph: 2\n",
      "Number of features (metrics) at the graph 1\n"
     ]
    }
   ],
   "source": [
    "\"\"\"\n",
    "Some tips of commands that help us to verify if the graph is correctly contructed\n",
    "and how send this data to GPU for training (in future)\n",
    "\"\"\"\n",
    "print(f\"Number of nodes at the graph: {data.num_nodes}\")\n",
    "\n",
    "print(f\"Number of edges at the graph: {data.num_edges}\")\n",
    "\n",
    "print(f\"Number of features (metrics) at the graph {data.num_node_features}\")\n",
    "\n",
    "# Transfer data object to GPU.\n",
    "device = torch.device('cuda')\n",
    "#Come back data to CPU\n",
    "data = data.to('cpu')"
   ]
  },
  {
   "cell_type": "code",
   "execution_count": null,
   "id": "ca0ecd01",
   "metadata": {},
   "outputs": [],
   "source": []
  },
  {
   "cell_type": "markdown",
   "id": "70a6a85c",
   "metadata": {},
   "source": [
    "### Example with Protein dataset"
   ]
  },
  {
   "cell_type": "code",
   "execution_count": 10,
   "id": "302edb2d",
   "metadata": {},
   "outputs": [],
   "source": [
    "from torch_geometric.datasets import TUDataset\n",
    "# https://chrsmrrs.github.io/datasets/"
   ]
  },
  {
   "cell_type": "code",
   "execution_count": 11,
   "id": "e8274f91",
   "metadata": {},
   "outputs": [],
   "source": [
    "#Load the enzine dataset that are compost with 600 graphs with 6 classes\n",
    "dataset = TUDataset(root='/tmp/ENZYMES', name='ENZYMES')"
   ]
  },
  {
   "cell_type": "code",
   "execution_count": 12,
   "id": "3c865ddf",
   "metadata": {},
   "outputs": [
    {
     "name": "stdout",
     "output_type": "stream",
     "text": [
      "Size of dataset: 600\n",
      "Number of classes: 6\n",
      "Features per node: 3\n"
     ]
    }
   ],
   "source": [
    "print(f\"Size of dataset: {len(dataset)}\")\n",
    "print(f\"Number of classes: {dataset.num_classes}\")\n",
    "print(f\"Features per node: {dataset.num_node_features}\")"
   ]
  },
  {
   "cell_type": "code",
   "execution_count": 13,
   "id": "bda38eea",
   "metadata": {},
   "outputs": [
    {
     "data": {
      "text/plain": [
       "Data(edge_index=[2, 168], x=[37, 3], y=[1])"
      ]
     },
     "execution_count": 13,
     "metadata": {},
     "output_type": "execute_result"
    }
   ],
   "source": [
    "\"\"\"\n",
    "Acessing the first graph at the dataset we can see that have\n",
    "84 undirect edges (168/2), with 33 nodes where each node gave\n",
    "3 feature value and the classe of this graph is 1 (y value)\n",
    "\"\"\"\n",
    "dataset[0]"
   ]
  },
  {
   "cell_type": "markdown",
   "id": "7cecfb27",
   "metadata": {},
   "source": [
    "### Separing data in training and test"
   ]
  },
  {
   "cell_type": "code",
   "execution_count": 14,
   "id": "fa8e921b",
   "metadata": {},
   "outputs": [],
   "source": [
    "\"\"\"\n",
    "Setting the training set with 90% of data and test with 10%\n",
    "\"\"\"\n",
    "#How much samples will have in traing\n",
    "numb_traing_samples = int(len(dataset) * 0.9)\n",
    "\n",
    "#Shuffling the dataset\n",
    "dataset = dataset.shuffle()\n",
    "\n",
    "#Defining how are the traing\n",
    "train_dataset = dataset[:numb_traing_samples]\n",
    "\n",
    "#And choosen the test\n",
    "test_dataset = dataset[numb_traing_samples:]"
   ]
  },
  {
   "cell_type": "code",
   "execution_count": null,
   "id": "b70edc3a",
   "metadata": {},
   "outputs": [],
   "source": []
  },
  {
   "cell_type": "markdown",
   "id": "d3ffeb36",
   "metadata": {},
   "source": [
    "## Creating DataLoader"
   ]
  },
  {
   "cell_type": "code",
   "execution_count": 15,
   "id": "65aab82f",
   "metadata": {},
   "outputs": [],
   "source": [
    "from torch_geometric.loader import DataLoader"
   ]
  },
  {
   "cell_type": "code",
   "execution_count": 16,
   "id": "66e06d23",
   "metadata": {},
   "outputs": [],
   "source": [
    "\"\"\"\n",
    "Dataloader is the structure responsable to generate the batchs for network,\n",
    "when called return a set of graphs (the batch size)\n",
    "\"\"\"\n",
    "loader = DataLoader(train_dataset, batch_size=12, shuffle=True)"
   ]
  },
  {
   "cell_type": "code",
   "execution_count": 17,
   "id": "bde95cc4",
   "metadata": {},
   "outputs": [
    {
     "data": {
      "text/plain": [
       "DataBatch(edge_index=[2, 1240], x=[312, 3], y=[12], batch=[312], ptr=[13])"
      ]
     },
     "execution_count": 17,
     "metadata": {},
     "output_type": "execute_result"
    }
   ],
   "source": [
    "#Way to see what return at each interaction in dataloader\n",
    "#The variable batch shows the index of each node at the batch\n",
    "next(iter(loader))"
   ]
  },
  {
   "cell_type": "code",
   "execution_count": 18,
   "id": "baeb5f95",
   "metadata": {},
   "outputs": [
    {
     "name": "stdout",
     "output_type": "stream",
     "text": [
      "Each batch have: 1956 edges, 1002 nodes with 3 features each\n"
     ]
    }
   ],
   "source": [
    "print(f\"Each batch have: {int(3912/2)} edges, 1002 nodes with 3 features each\")"
   ]
  },
  {
   "cell_type": "code",
   "execution_count": null,
   "id": "007d9cff",
   "metadata": {},
   "outputs": [],
   "source": []
  },
  {
   "cell_type": "markdown",
   "id": "cd9f5498",
   "metadata": {},
   "source": [
    "## Network (GCN)"
   ]
  },
  {
   "cell_type": "code",
   "execution_count": 19,
   "id": "4f2a6c82",
   "metadata": {},
   "outputs": [],
   "source": [
    "import torch\n",
    "import torch.nn.functional as F\n",
    "from torch_geometric.nn import GCNConv\n",
    "from torch_geometric.nn import global_mean_pool as gap, global_max_pool as gmp\n",
    "import numpy as np\n",
    "\n",
    "#https://towardsdatascience.com/hands-on-graph-neural-networks-with-pytorch-pytorch-geometric-359487e221a8"
   ]
  },
  {
   "cell_type": "code",
   "execution_count": 20,
   "id": "5c16c3fc",
   "metadata": {},
   "outputs": [],
   "source": [
    "\"\"\"\n",
    "Define the GCN convolutional network, with 2 convolutional layers\n",
    "with activation ReLU and softmax activation for total of classes.\n",
    "\"\"\"\n",
    "class GCN(torch.nn.Module):\n",
    "    def __init__(self):\n",
    "        super().__init__()\n",
    "        self.conv1 = GCNConv(train_dataset.num_node_features, 256)\n",
    "        self.conv2 = GCNConv(256, 128)\n",
    "        self.conv3 = GCNConv(128, train_dataset.num_classes)\n",
    "\n",
    "    def forward(self, data):\n",
    "        x, edge_index, batch = data.x, data.edge_index, data.batch\n",
    "\n",
    "        x = self.conv1(x, edge_index)\n",
    "        x = F.relu(x)\n",
    "        x = F.dropout(x, training=self.training)\n",
    "        \n",
    "        x = self.conv2(x, edge_index)\n",
    "        x = F.relu(x)\n",
    "        x = F.dropout(x, training=self.training)\n",
    "        \n",
    "        x = self.conv3(x, edge_index)\n",
    "        x = torch.cat([gmp(x, batch), gap(x, batch)],dim=1)\n",
    "\n",
    "        return F.log_softmax(x, dim=1)"
   ]
  },
  {
   "cell_type": "code",
   "execution_count": 21,
   "id": "1dde1b5d",
   "metadata": {},
   "outputs": [],
   "source": [
    "#If you have a GPU and cuda installed this part set to use GPU in training\n",
    "device = torch.device('cuda' if torch.cuda.is_available() else 'cpu')\n",
    "model = GCN().to(device)\n",
    "data = loader\n",
    "\n",
    "#Select how optimizer will be used to adjust the network weights\n",
    "optimizer = torch.optim.Adam(model.parameters(), lr=0.01, weight_decay=5e-4)"
   ]
  },
  {
   "cell_type": "code",
   "execution_count": 22,
   "id": "c075460a",
   "metadata": {},
   "outputs": [
    {
     "name": "stdout",
     "output_type": "stream",
     "text": [
      "[0,     1] loss: 0.062\n",
      "[0,    41] loss: 2.351\n",
      "[1,     1] loss: 0.056\n",
      "[1,    41] loss: 1.982\n",
      "[2,     1] loss: 0.045\n",
      "[2,    41] loss: 1.872\n",
      "[3,     1] loss: 0.043\n",
      "[3,    41] loss: 1.846\n",
      "[4,     1] loss: 0.049\n",
      "[4,    41] loss: 1.831\n",
      "[5,     1] loss: 0.043\n",
      "[5,    41] loss: 1.824\n",
      "[6,     1] loss: 0.043\n",
      "[6,    41] loss: 1.805\n",
      "[7,     1] loss: 0.045\n",
      "[7,    41] loss: 1.809\n",
      "[8,     1] loss: 0.042\n",
      "[8,    41] loss: 1.803\n",
      "[9,     1] loss: 0.039\n",
      "[9,    41] loss: 1.783\n",
      "[10,     1] loss: 0.046\n",
      "[10,    41] loss: 1.787\n",
      "[11,     1] loss: 0.045\n",
      "[11,    41] loss: 1.801\n",
      "[12,     1] loss: 0.043\n",
      "[12,    41] loss: 1.804\n",
      "[13,     1] loss: 0.045\n",
      "[13,    41] loss: 1.747\n",
      "[14,     1] loss: 0.042\n",
      "[14,    41] loss: 1.817\n",
      "[15,     1] loss: 0.047\n",
      "[15,    41] loss: 1.798\n",
      "[16,     1] loss: 0.044\n",
      "[16,    41] loss: 1.778\n",
      "[17,     1] loss: 0.045\n",
      "[17,    41] loss: 1.776\n",
      "[18,     1] loss: 0.047\n",
      "[18,    41] loss: 1.792\n",
      "[19,     1] loss: 0.041\n",
      "[19,    41] loss: 1.773\n"
     ]
    }
   ],
   "source": [
    "plot_factor = 40\n",
    "model.train()\n",
    "\n",
    "for epoch in range(20):  # loop over the dataset multiple times\n",
    "\n",
    "    running_loss = 0.0\n",
    "    for i, data in enumerate(loader, 0):\n",
    "        # get the inputs; data is a list of [inputs, labels]\n",
    "        #Inforns that optimizer need a gradient values adjust\n",
    "        optimizer.zero_grad()\n",
    "        #Get the result of network (softmax output)\n",
    "        out = model(data.to(device))\n",
    "        #Calculate the loss\n",
    "        loss = F.nll_loss(out, data.y)\n",
    "        #Do the backpropragation (adjusting the weight of layers)\n",
    "        loss.backward()\n",
    "        #Set the new weights and got to next step\n",
    "        optimizer.step()\n",
    "        \n",
    "        running_loss += loss.item()\n",
    "        if i % plot_factor == 0:    # print every mini-batches\n",
    "            print(f'[{epoch}, {i + 1:5d}] loss: {running_loss / plot_factor:.3f}')\n",
    "            running_loss = 0.0"
   ]
  },
  {
   "cell_type": "code",
   "execution_count": null,
   "id": "31aaf6d3",
   "metadata": {},
   "outputs": [],
   "source": []
  },
  {
   "cell_type": "markdown",
   "id": "585dc687",
   "metadata": {},
   "source": [
    "## Testing the model"
   ]
  },
  {
   "cell_type": "code",
   "execution_count": 23,
   "id": "5b0d931d",
   "metadata": {},
   "outputs": [],
   "source": [
    "test_loader = DataLoader(test_dataset, batch_size=12, shuffle=True)"
   ]
  },
  {
   "cell_type": "code",
   "execution_count": 24,
   "id": "12602c6d",
   "metadata": {},
   "outputs": [
    {
     "data": {
      "text/plain": [
       "GCN(\n",
       "  (conv1): GCNConv(3, 256)\n",
       "  (conv2): GCNConv(256, 128)\n",
       "  (conv3): GCNConv(128, 6)\n",
       ")"
      ]
     },
     "execution_count": 24,
     "metadata": {},
     "output_type": "execute_result"
    }
   ],
   "source": [
    "#Set the model in test mode (dont change thw weights)\n",
    "model.eval()"
   ]
  },
  {
   "cell_type": "code",
   "execution_count": 25,
   "id": "7dc09af9",
   "metadata": {},
   "outputs": [],
   "source": [
    "#Code to compute de acc in the test data\n",
    "def accuracy(data):\n",
    "    \n",
    "    prediction = model(data)\n",
    "    y = data.y.squeeze().to(device)\n",
    "    is_correct = (torch.max(prediction, 1)[1] == y)\n",
    "    \n",
    "    return(is_correct.cpu().numpy().tolist())"
   ]
  },
  {
   "cell_type": "code",
   "execution_count": 26,
   "id": "adc5779c",
   "metadata": {},
   "outputs": [],
   "source": [
    "Acc = []\n",
    "for count, data in enumerate(test_loader, 0):\n",
    "    Acc.extend(accuracy(data.to(device)))"
   ]
  },
  {
   "cell_type": "code",
   "execution_count": 27,
   "id": "26e1dc56",
   "metadata": {},
   "outputs": [
    {
     "data": {
      "text/plain": [
       "0.25"
      ]
     },
     "execution_count": 27,
     "metadata": {},
     "output_type": "execute_result"
    }
   ],
   "source": [
    "np.mean(Acc)"
   ]
  },
  {
   "cell_type": "code",
   "execution_count": null,
   "id": "17367ef6",
   "metadata": {},
   "outputs": [],
   "source": []
  },
  {
   "cell_type": "code",
   "execution_count": null,
   "id": "fb268a49",
   "metadata": {},
   "outputs": [],
   "source": []
  },
  {
   "cell_type": "code",
   "execution_count": null,
   "id": "19335c71",
   "metadata": {},
   "outputs": [],
   "source": []
  }
 ],
 "metadata": {
  "kernelspec": {
   "display_name": "Python 3 (ipykernel)",
   "language": "python",
   "name": "python3"
  },
  "language_info": {
   "codemirror_mode": {
    "name": "ipython",
    "version": 3
   },
   "file_extension": ".py",
   "mimetype": "text/x-python",
   "name": "python",
   "nbconvert_exporter": "python",
   "pygments_lexer": "ipython3",
   "version": "3.8.8"
  }
 },
 "nbformat": 4,
 "nbformat_minor": 5
}
